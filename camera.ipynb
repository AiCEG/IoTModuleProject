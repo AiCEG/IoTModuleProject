{
 "cells": [
  {
   "cell_type": "code",
   "execution_count": 1,
   "metadata": {},
   "outputs": [],
   "source": [
    "import subprocess\n",
    "from datetime import datetime\n",
    "import os\n",
    "from ultralytics import YOLO\n",
    "from ultralytics.utils.plotting import Annotator\n",
    "from ultralytics.solutions import object_counter\n"
   ]
  },
  {
   "cell_type": "code",
   "execution_count": 4,
   "metadata": {},
   "outputs": [],
   "source": [
    "\n",
    "# Function to take a picture using libcamera\n",
    "def take_picture(folder_path):\n",
    "    os.makedirs(folder_path, exist_ok=True)\n",
    "    timestamp = datetime.now().strftime(\"%Y%m%d_%H%M%S\")\n",
    "    filename = f\"{folder_path}/image_{timestamp}.jpg\"\n",
    "    command = ['libcamera-still', '-o', filename, '--nopreview', '--timeout', '500']\n",
    "    result = subprocess.run(command, capture_output=True, text=True)\n",
    "    if result.returncode == 0:\n",
    "        print(f\"Picture taken successfully and saved as {filename}!\")\n",
    "        return filename\n",
    "    else:\n",
    "        print(\"Failed to take picture:\", result.stderr)\n",
    "        return None\n",
    "\n",
    "# Function to count people in the image using YOLOv8\n",
    "def count_people(image_path):\n",
    "    model = YOLO('yolov8n.pt')  # Load the pretrained YOLOv8 model\n",
    "    results = model(image_path)\n",
    "    #get the number of people detected\n",
    "    people_count = len(results.pred[results.pred[:, 5] == 0])\n",
    "    return people_count\n"
   ]
  },
  {
   "cell_type": "code",
   "execution_count": null,
   "metadata": {},
   "outputs": [],
   "source": [
    "\n",
    "# Path where images will be saved\n",
    "images_folder = 'captured_images'\n",
    "\n",
    "# Take a picture\n",
    "image_path = take_picture(images_folder)\n"
   ]
  },
  {
   "cell_type": "code",
   "execution_count": 6,
   "metadata": {},
   "outputs": [
    {
     "name": "stdout",
     "output_type": "stream",
     "text": [
      "\n",
      "image 1/1 /Users/alicemguler/NoSyncDocuments/IoTCountingAndCoModel/photo.jpg: 448x640 4 persons, 1 car, 1 traffic light, 1 tie, 87.3ms\n",
      "Speed: 3.1ms preprocess, 87.3ms inference, 0.8ms postprocess per image at shape (1, 3, 448, 640)\n",
      "4\n"
     ]
    }
   ],
   "source": [
    "\n",
    "# Count people in the image\n",
    "image_path = 'photo.jpg'\n",
    "if image_path:\n",
    "    model = YOLO('yolov8n.pt')  # Load the pretrained YOLOv8 model\n",
    "    results = model(image_path)\n",
    "    res = results\n",
    "    names = res[0].names    # same as model.names\n",
    "\n",
    "    # store number of objects detected per class label\n",
    "    class_detections_values = []\n",
    "    for k, v in names.items():\n",
    "        class_detections_values.append(res[0].boxes.cls.tolist().count(k))\n",
    "    # create dictionary of objects detected per class\n",
    "    classes_detected = dict(zip(names.values(), class_detections_values))\n",
    "    print(classes_detected['person'])"
   ]
  },
  {
   "cell_type": "code",
   "execution_count": 2,
   "metadata": {},
   "outputs": [
    {
     "ename": "TypeError",
     "evalue": "ObjectCounter.set_args() missing 1 required positional argument: 'reg_pts'",
     "output_type": "error",
     "traceback": [
      "\u001b[0;31m---------------------------------------------------------------------------\u001b[0m",
      "\u001b[0;31mTypeError\u001b[0m                                 Traceback (most recent call last)",
      "Cell \u001b[0;32mIn[2], line 4\u001b[0m\n\u001b[1;32m      2\u001b[0m model \u001b[38;5;241m=\u001b[39m YOLO(\u001b[38;5;124m'\u001b[39m\u001b[38;5;124myolov8n.pt\u001b[39m\u001b[38;5;124m'\u001b[39m)  \u001b[38;5;66;03m# Load the pretrained YOLOv8 model\u001b[39;00m\n\u001b[1;32m      3\u001b[0m classes_to_count \u001b[38;5;241m=\u001b[39m [\u001b[38;5;241m0\u001b[39m]  \u001b[38;5;66;03m# person and car classes for count\u001b[39;00m\n\u001b[0;32m----> 4\u001b[0m \u001b[43mcounter\u001b[49m\u001b[38;5;241;43m.\u001b[39;49m\u001b[43mset_args\u001b[49m\u001b[43m(\u001b[49m\u001b[43mclasses_names\u001b[49m\u001b[38;5;241;43m=\u001b[39;49m\u001b[43mmodel\u001b[49m\u001b[38;5;241;43m.\u001b[39;49m\u001b[43mnames\u001b[49m\u001b[43m,\u001b[49m\n\u001b[1;32m      5\u001b[0m \u001b[43m                 \u001b[49m\u001b[43mdraw_tracks\u001b[49m\u001b[38;5;241;43m=\u001b[39;49m\u001b[38;5;28;43;01mTrue\u001b[39;49;00m\u001b[43m,\u001b[49m\n\u001b[1;32m      6\u001b[0m \u001b[43m                 \u001b[49m\u001b[43mline_thickness\u001b[49m\u001b[38;5;241;43m=\u001b[39;49m\u001b[38;5;241;43m2\u001b[39;49m\u001b[43m)\u001b[49m\n",
      "\u001b[0;31mTypeError\u001b[0m: ObjectCounter.set_args() missing 1 required positional argument: 'reg_pts'"
     ]
    }
   ],
   "source": []
  }
 ],
 "metadata": {
  "kernelspec": {
   "display_name": ".venv",
   "language": "python",
   "name": "python3"
  },
  "language_info": {
   "codemirror_mode": {
    "name": "ipython",
    "version": 3
   },
   "file_extension": ".py",
   "mimetype": "text/x-python",
   "name": "python",
   "nbconvert_exporter": "python",
   "pygments_lexer": "ipython3",
   "version": "3.11.4"
  }
 },
 "nbformat": 4,
 "nbformat_minor": 2
}
