{
 "cells": [
  {
   "cell_type": "code",
   "execution_count": 2,
   "metadata": {},
   "outputs": [],
   "source": [
    "import subprocess\n",
    "from datetime import datetime\n",
    "import os\n",
    "from ultralytics import YOLO\n",
    "from ultralytics.utils.plotting import Annotator\n",
    "from ultralytics.solutions import object_counter\n"
   ]
  },
  {
   "cell_type": "code",
   "execution_count": 4,
   "metadata": {},
   "outputs": [],
   "source": [
    "\n",
    "# Function to take a picture using libcamera\n",
    "def take_picture(folder_path):\n",
    "    os.makedirs(folder_path, exist_ok=True)\n",
    "    timestamp = datetime.now().strftime(\"%Y%m%d_%H%M%S\")\n",
    "    filename = f\"{folder_path}/image_{timestamp}.jpg\"\n",
    "    command = ['libcamera-still', '-o', filename, '--nopreview', '--timeout', '500']\n",
    "    result = subprocess.run(command, capture_output=True, text=True)\n",
    "    if result.returncode == 0:\n",
    "        print(f\"Picture taken successfully and saved as {filename}!\")\n",
    "        return filename\n",
    "    else:\n",
    "        print(\"Failed to take picture:\", result.stderr)\n",
    "        return None\n",
    "\n",
    "# Function to count people in the image using YOLOv8\n",
    "def count_people(image_path):\n",
    "    model = YOLO('yolov8n.pt')  # Load the pretrained YOLOv8 model\n",
    "    results = model(image_path)\n",
    "    #get the number of people detected\n",
    "    people_count = len(results.pred[results.pred[:, 5] == 0])\n",
    "    return people_count\n"
   ]
  },
  {
   "cell_type": "code",
   "execution_count": null,
   "metadata": {},
   "outputs": [],
   "source": [
    "\n",
    "# Path where images will be saved\n",
    "images_folder = 'captured_images'\n",
    "\n",
    "# Take a picture\n",
    "image_path = take_picture(images_folder)\n"
   ]
  },
  {
   "cell_type": "code",
   "execution_count": 6,
   "metadata": {},
   "outputs": [
    {
     "name": "stdout",
     "output_type": "stream",
     "text": [
      "\n",
      "image 1/1 /Users/alicemguler/NoSyncDocuments/IoTCountingAndCoModel/photo.jpg: 448x640 4 persons, 1 car, 1 traffic light, 1 tie, 87.3ms\n",
      "Speed: 3.1ms preprocess, 87.3ms inference, 0.8ms postprocess per image at shape (1, 3, 448, 640)\n",
      "4\n"
     ]
    }
   ],
   "source": [
    "\n",
    "# Count people in the image\n",
    "image_path = 'photo.jpg'\n",
    "if image_path:\n",
    "    model = YOLO('yolov8n.pt')  # Load the pretrained YOLOv8 model\n",
    "    results = model(image_path)\n",
    "    res = results\n",
    "    names = res[0].names    # same as model.names\n",
    "\n",
    "    # store number of objects detected per class label\n",
    "    class_detections_values = []\n",
    "    for k, v in names.items():\n",
    "        class_detections_values.append(res[0].boxes.cls.tolist().count(k))\n",
    "    # create dictionary of objects detected per class\n",
    "    classes_detected = dict(zip(names.values(), class_detections_values))\n",
    "    print(classes_detected['person'])"
   ]
  },
  {
   "cell_type": "code",
   "execution_count": null,
   "metadata": {},
   "outputs": [],
   "source": []
  },
  {
   "cell_type": "code",
   "execution_count": 7,
   "metadata": {},
   "outputs": [
    {
     "name": "stdout",
     "output_type": "stream",
     "text": [
      "\n",
      "image 1/1 /Users/alicemguler/NoSyncDocuments/IoTCountingAndCoModel/classroom.jpg: 480x640 8 persons, 1 bottle, 1 cup, 7 chairs, 1 potted plant, 2 dining tables, 1 laptop, 109.4ms\n",
      "Speed: 4.4ms preprocess, 109.4ms inference, 1.6ms postprocess per image at shape (1, 3, 480, 640)\n",
      "\n",
      "image 1/1 /Users/alicemguler/NoSyncDocuments/IoTCountingAndCoModel/classroom.jpg: 480x640 8 persons, 1 bottle, 1 cup, 7 chairs, 1 potted plant, 2 dining tables, 1 laptop, 148.4ms\n",
      "Speed: 2.9ms preprocess, 148.4ms inference, 1.8ms postprocess per image at shape (1, 3, 480, 640)\n",
      "{'person': 8, 'bicycle': 0, 'car': 0, 'motorcycle': 0, 'airplane': 0, 'bus': 0, 'train': 0, 'truck': 0, 'boat': 0, 'traffic light': 0, 'fire hydrant': 0, 'stop sign': 0, 'parking meter': 0, 'bench': 0, 'bird': 0, 'cat': 0, 'dog': 0, 'horse': 0, 'sheep': 0, 'cow': 0, 'elephant': 0, 'bear': 0, 'zebra': 0, 'giraffe': 0, 'backpack': 0, 'umbrella': 0, 'handbag': 0, 'tie': 0, 'suitcase': 0, 'frisbee': 0, 'skis': 0, 'snowboard': 0, 'sports ball': 0, 'kite': 0, 'baseball bat': 0, 'baseball glove': 0, 'skateboard': 0, 'surfboard': 0, 'tennis racket': 0, 'bottle': 1, 'wine glass': 0, 'cup': 1, 'fork': 0, 'knife': 0, 'spoon': 0, 'bowl': 0, 'banana': 0, 'apple': 0, 'sandwich': 0, 'orange': 0, 'broccoli': 0, 'carrot': 0, 'hot dog': 0, 'pizza': 0, 'donut': 0, 'cake': 0, 'chair': 7, 'couch': 0, 'potted plant': 1, 'bed': 0, 'dining table': 2, 'toilet': 0, 'tv': 0, 'laptop': 1, 'mouse': 0, 'remote': 0, 'keyboard': 0, 'cell phone': 0, 'microwave': 0, 'oven': 0, 'toaster': 0, 'sink': 0, 'refrigerator': 0, 'book': 0, 'clock': 0, 'vase': 0, 'scissors': 0, 'teddy bear': 0, 'hair drier': 0, 'toothbrush': 0}\n"
     ]
    },
    {
     "data": {
      "text/plain": [
       "''"
      ]
     },
     "execution_count": 7,
     "metadata": {},
     "output_type": "execute_result"
    }
   ],
   "source": [
    "def estimate_sizes(image_path):\n",
    "    # Load the pretrained YOLOv8 model, possibly adjust for head detection\n",
    "    model = YOLO('yolov8n.pt')\n",
    "    results = model(image_path)\n",
    "    results = model(image_path)\n",
    "    res = results\n",
    "    names = res[0].names    # same as model.names\n",
    "\n",
    "    class_detections_values = []\n",
    "    for k, v in names.items():\n",
    "        class_detections_values.append(res[0].boxes.cls.tolist().count(k))\n",
    "\n",
    "    classes_detected = dict(zip(names.values(), class_detections_values))\n",
    "\n",
    "    print(classes_detected)\n",
    "\n",
    "    return \"\"\n",
    "\n",
    "estimate_sizes(\"classroom.jpg\")"
   ]
  }
 ],
 "metadata": {
  "kernelspec": {
   "display_name": ".venv",
   "language": "python",
   "name": "python3"
  },
  "language_info": {
   "codemirror_mode": {
    "name": "ipython",
    "version": 3
   },
   "file_extension": ".py",
   "mimetype": "text/x-python",
   "name": "python",
   "nbconvert_exporter": "python",
   "pygments_lexer": "ipython3",
   "version": "3.11.4"
  }
 },
 "nbformat": 4,
 "nbformat_minor": 2
}
